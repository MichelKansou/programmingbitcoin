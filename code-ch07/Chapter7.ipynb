{
 "cells": [
  {
   "cell_type": "code",
   "execution_count": 1,
   "metadata": {},
   "outputs": [],
   "source": [
    "############## PLEASE RUN THIS CELL FIRST! ###################\n",
    "\n",
    "# import everything and define a test runner function\n",
    "from importlib import reload\n",
    "from helper import run\n",
    "import ecc\n",
    "import helper\n",
    "import tx\n",
    "import script"
   ]
  },
  {
   "cell_type": "code",
   "execution_count": 2,
   "metadata": {},
   "outputs": [
    {
     "name": "stdout",
     "output_type": "stream",
     "text": [
      "fetch id  d1c789a9c60383bf715f3f6ad9d14b91fe55f3deb369fe5d9280cb1a01793f81\n",
      "True\n"
     ]
    }
   ],
   "source": [
    "from tx import Tx\n",
    "from io import BytesIO\n",
    "raw_tx = ('0100000001813f79011acb80925dfe69b3def355fe914bd1d96a3f5f71bf8303c6a989c7d1000000006b483045022100ed81ff192e75a3fd2304004dcadb746fa5e24c5031ccfcf21320b0277457c98f02207a986d955c6e0cb35d446a89d3f56100f4d7f67801c31967743a9c8e10615bed01210349fc4e631e3624a545de3f89f5d8684c7b8138bd94bdd531d2e213bf016b278afeffffff02a135ef01000000001976a914bc3b654dca7e56b04dca18f2566cdaf02e8d9ada88ac99c39800000000001976a9141c4bc762dd5423e332166702cb75f40df79fea1288ac19430600')\n",
    "stream = BytesIO(bytes.fromhex(raw_tx))\n",
    "transaction = Tx.parse(stream)\n",
    "print(transaction.fee() >= 0)"
   ]
  },
  {
   "cell_type": "code",
   "execution_count": 3,
   "metadata": {},
   "outputs": [
    {
     "name": "stdout",
     "output_type": "stream",
     "text": [
      "True\n"
     ]
    }
   ],
   "source": [
    "from ecc import S256Point, Signature\n",
    "sec = bytes.fromhex('0349fc4e631e3624a545de3f89f5d8684c7b8138bd94bdd531d2e213bf016b278a')\n",
    "der = bytes.fromhex('3045022100ed81ff192e75a3fd2304004dcadb746fa5e24c5031ccfcf21320b0277457c98f02207a986d955c6e0cb35d446a89d3f56100f4d7f67801c31967743a9c8e10615bed')\n",
    "z = 0x27e0c5994dec7824e56dec6b2fcb342eb7cdb0d0957c2fce9882f715e85d81a6\n",
    "point = S256Point.parse(sec)\n",
    "signature = Signature.parse(der)\n",
    "print(point.verify(z, signature))"
   ]
  },
  {
   "cell_type": "code",
   "execution_count": 4,
   "metadata": {},
   "outputs": [
    {
     "name": "stdout",
     "output_type": "stream",
     "text": [
      "0x27e0c5994dec7824e56dec6b2fcb342eb7cdb0d0957c2fce9882f715e85d81a6\n"
     ]
    }
   ],
   "source": [
    "from helper import hash256\n",
    "modified_tx = bytes.fromhex('0100000001813f79011acb80925dfe69b3def355fe914bd1d96a3f5f71bf8303c6a989c7d1000000001976a914a802fc56c704ce87c42d7c92eb75e7896bdc41ae88acfeffffff02a135ef01000000001976a914bc3b654dca7e56b04dca18f2566cdaf02e8d9ada88ac99c39800000000001976a9141c4bc762dd5423e332166702cb75f40df79fea1288ac1943060001000000')\n",
    "h256 = hash256(modified_tx)\n",
    "z = int.from_bytes(h256, 'big')\n",
    "print(hex(z))"
   ]
  },
  {
   "cell_type": "code",
   "execution_count": 5,
   "metadata": {},
   "outputs": [
    {
     "data": {
      "text/plain": [
       "True"
      ]
     },
     "execution_count": 5,
     "metadata": {},
     "output_type": "execute_result"
    }
   ],
   "source": [
    "from ecc import S256Point, Signature\n",
    "sec = bytes.fromhex('0349fc4e631e3624a545de3f89f5d8684c7b8138bd94bdd531d2e213bf016b278a')\n",
    "der = bytes.fromhex('3045022100ed81ff192e75a3fd2304004dcadb746fa5e24c5031ccfcf21320b0277457c98f02207a986d955c6e0cb35d446a89d3f56100f4d7f67801c31967743a9c8e10615bed')\n",
    "z = 0x27e0c5994dec7824e56dec6b2fcb342eb7cdb0d0957c2fce9882f715e85d81a6\n",
    "point = S256Point.parse(sec)\n",
    "signature = Signature.parse(der)\n",
    "point.verify(z, signature)"
   ]
  },
  {
   "cell_type": "markdown",
   "metadata": {},
   "source": [
    "### Exercise 1\n",
    "\n",
    "Write the `sig_hash` method for the `Tx` class.\n",
    "\n",
    "#### Make [this test](/edit/code-ch07/tx.py) pass: `tx.py:TxTest:test_sig_hash`"
   ]
  },
  {
   "cell_type": "code",
   "execution_count": 6,
   "metadata": {},
   "outputs": [
    {
     "name": "stderr",
     "output_type": "stream",
     "text": [
      "."
     ]
    },
    {
     "name": "stdout",
     "output_type": "stream",
     "text": [
      "fetch id  452c629d67e41baec3ac6f04fe744b4b9617f8f859c63b3002f8684e7a4fee03\n",
      "fetch id  d1c789a9c60383bf715f3f6ad9d14b91fe55f3deb369fe5d9280cb1a01793f81\n"
     ]
    },
    {
     "name": "stderr",
     "output_type": "stream",
     "text": [
      "\n",
      "----------------------------------------------------------------------\n",
      "Ran 1 test in 0.004s\n",
      "\n",
      "OK\n"
     ]
    }
   ],
   "source": [
    "# Exercise 1\n",
    "\n",
    "reload(tx)\n",
    "run(tx.TxTest(\"test_sig_hash\"))"
   ]
  },
  {
   "cell_type": "markdown",
   "metadata": {},
   "source": [
    "### Exercise 2\n",
    "\n",
    "Write the `verify_input` method for the `Tx` class. You will want to use the `TxIn.script_pubkey()`, `Tx.sig_hash()` and `Script.evaluate()` methods.\n",
    "\n",
    "#### Make [this test](/edit/code-ch07/tx.py) pass: `tx.py:TxTest:test_verify_p2pkh`"
   ]
  },
  {
   "cell_type": "code",
   "execution_count": 7,
   "metadata": {},
   "outputs": [
    {
     "name": "stdout",
     "output_type": "stream",
     "text": [
      "fetch id  452c629d67e41baec3ac6f04fe744b4b9617f8f859c63b3002f8684e7a4fee03\n",
      "fetch id  d1c789a9c60383bf715f3f6ad9d14b91fe55f3deb369fe5d9280cb1a01793f81\n",
      "fetch id  d1c789a9c60383bf715f3f6ad9d14b91fe55f3deb369fe5d9280cb1a01793f81\n",
      "fetch id  d1c789a9c60383bf715f3f6ad9d14b91fe55f3deb369fe5d9280cb1a01793f81\n",
      "fetch id  5418099cc755cb9dd3ebc6cf1a7888ad53a1a3beb5a025bce89eb1bf7f1650a2\n",
      "fetch id  184d3393cea44574a7b521575878a5485fc3c18e4920808235c8f58264c1dc48\n",
      "fetch id  184d3393cea44574a7b521575878a5485fc3c18e4920808235c8f58264c1dc48\n",
      "fetch id  184d3393cea44574a7b521575878a5485fc3c18e4920808235c8f58264c1dc48\n"
     ]
    },
    {
     "name": "stderr",
     "output_type": "stream",
     "text": [
      ".\n",
      "----------------------------------------------------------------------\n",
      "Ran 1 test in 0.323s\n",
      "\n",
      "OK\n"
     ]
    }
   ],
   "source": [
    "# Exercise 2\n",
    "\n",
    "reload(tx)\n",
    "run(tx.TxTest(\"test_verify_p2pkh\"))"
   ]
  },
  {
   "cell_type": "code",
   "execution_count": 25,
   "metadata": {},
   "outputs": [
    {
     "name": "stdout",
     "output_type": "stream",
     "text": [
      "tx: cd30a8da777d28ef0e61efe68a9f7c559c1d3e5bcd7b265c850ccb4068598d11\n",
      "version: 1\n",
      "tx_ins:\n",
      "0d6fe5213c0b3291f208cba8bfb59b7476dffacc4e5cb66f6eb20a080843a299:13\n",
      "tx_outs:\n",
      "33000000:OP_DUP OP_HASH160 d52ad7ca9b3d096a38e752c2018e6fbc40cdf26f OP_EQUALVERIFY OP_CHECKSIG\n",
      "10000000:OP_DUP OP_HASH160 507b27411ccf7f16f10297de6cef3f291623eddf OP_EQUALVERIFY OP_CHECKSIG\n",
      "locktime: 0\n"
     ]
    }
   ],
   "source": [
    "from helper import decode_base58, SIGHASH_ALL\n",
    "from script import p2pkh_script, Script\n",
    "from tx import TxIn, TxOut, Tx\n",
    "prev_tx = bytes.fromhex('0d6fe5213c0b3291f208cba8bfb59b7476dffacc4e5cb66f6eb20a080843a299')\n",
    "prev_index = 13\n",
    "tx_in = TxIn(prev_tx, prev_index)\n",
    "tx_outs = []\n",
    "change_amount = int(0.33*100000000)\n",
    "change_h160 = decode_base58('mzx5YhAH9kNHtcN481u6WkjeHjYtVeKVh2')\n",
    "change_script = p2pkh_script(change_h160)\n",
    "change_output = TxOut(amount=change_amount, script_pubkey=change_script)\n",
    "target_amount = int(0.1*100000000)\n",
    "target_h160 = decode_base58('mnrVtF8DWjMu839VW3rBfgYaAfKk8983Xf')\n",
    "target_script = p2pkh_script(target_h160)\n",
    "target_output = TxOut(amount=target_amount, script_pubkey=target_script)\n",
    "tx_obj = Tx(1, [tx_in], [change_output, target_output], 0, True)\n",
    "print(tx_obj)"
   ]
  },
  {
   "cell_type": "code",
   "execution_count": 26,
   "metadata": {},
   "outputs": [
    {
     "name": "stdout",
     "output_type": "stream",
     "text": [
      "fetch id  d1c789a9c60383bf715f3f6ad9d14b91fe55f3deb369fe5d9280cb1a01793f81\n",
      "0100000001813f79011acb80925dfe69b3def355fe914bd1d96a3f5f71bf8303c6a989c7d1000000006a47304402207db2402a3311a3b845b038885e3dd889c08126a8570f26a844e3e4049c482a11022010178cdca4129eacbeab7c44648bf5ac1f9cac217cd609d216ec2ebc8d242c0a012103935581e52c354cd2f484fe8ed83af7a3097005b2f9c60bff71d35bd795f54b67feffffff02a135ef01000000001976a914bc3b654dca7e56b04dca18f2566cdaf02e8d9ada88ac99c39800000000001976a9141c4bc762dd5423e332166702cb75f40df79fea1288ac19430600\n"
     ]
    }
   ],
   "source": [
    "from ecc import PrivateKey\n",
    "from helper import SIGHASH_ALL\n",
    "z = transaction.sig_hash(0)\n",
    "# get the private key \n",
    "private_key = PrivateKey(secret=8675309)\n",
    "# get the DER Signature of z\n",
    "der = private_key.sign(z).der()\n",
    "# add SIGHASH_ALL type\n",
    "sig = der + SIGHASH_ALL.to_bytes(1, 'big')\n",
    "# get SEC format of the public key \n",
    "sec = private_key.point.sec()\n",
    "# ScriptSig of a p2pkh\n",
    "script_sig = Script([sig, sec])\n",
    "# add the script_sig in the transaction\n",
    "transaction.tx_ins[0].script_sig = script_sig \n",
    "print(transaction.serialize().hex())"
   ]
  },
  {
   "cell_type": "code",
   "execution_count": 27,
   "metadata": {},
   "outputs": [
    {
     "name": "stdout",
     "output_type": "stream",
     "text": [
      "mn81594PzKZa9K3Jyy1ushpuEzrnTnxhVg\n"
     ]
    }
   ],
   "source": [
    "from ecc import PrivateKey\n",
    "from helper import hash256, little_endian_to_int\n",
    "# generate secret from passpharse\n",
    "secret = little_endian_to_int(hash256(b'Jimmy Song secret'))\n",
    "# get private key\n",
    "private_key = PrivateKey(secret)\n",
    "print(private_key.point.address(testnet=True))"
   ]
  },
  {
   "cell_type": "markdown",
   "metadata": {},
   "source": [
    "### Exercise 3\n",
    "\n",
    "Write the `sign_input` method for the `Tx` class.\n",
    "\n",
    "#### Make [this test](/edit/code-ch07/tx.py) pass: `tx.py:TxTest:test_sign_input`"
   ]
  },
  {
   "cell_type": "code",
   "execution_count": 28,
   "metadata": {},
   "outputs": [
    {
     "name": "stdout",
     "output_type": "stream",
     "text": [
      "fetch id  0d6fe5213c0b3291f208cba8bfb59b7476dffacc4e5cb66f6eb20a080843a299\n",
      "fetch id  0d6fe5213c0b3291f208cba8bfb59b7476dffacc4e5cb66f6eb20a080843a299\n",
      "fetch id  0d6fe5213c0b3291f208cba8bfb59b7476dffacc4e5cb66f6eb20a080843a299\n"
     ]
    },
    {
     "name": "stderr",
     "output_type": "stream",
     "text": [
      ".\n",
      "----------------------------------------------------------------------\n",
      "Ran 1 test in 0.247s\n",
      "\n",
      "OK\n"
     ]
    }
   ],
   "source": [
    "# Exercise 3\n",
    "\n",
    "reload(tx)\n",
    "run(tx.TxTest(\"test_sign_input\"))"
   ]
  },
  {
   "cell_type": "markdown",
   "metadata": {},
   "source": [
    "### Exercise 4\n",
    "\n",
    "Create a testnet transaction that sends 60% of a single UTXO to `mwJn1YPMq7y5F8J3LkC5Hxg9PHyZ5K4cFv`. The remaining amount minus fees should go back to your own change address. This should be a 1 input, 2 output transaction.\n",
    "\n",
    "You can broadcast the transaction at https://testnet.blockchain.info/pushtx"
   ]
  },
  {
   "cell_type": "code",
   "execution_count": 35,
   "metadata": {
    "scrolled": false
   },
   "outputs": [
    {
     "name": "stdout",
     "output_type": "stream",
     "text": [
      "change address : mwihZphHeqDwL2PydTtCxwdePJNrwRSizf\n",
      "tx: 2fa1ca7a46765a9cf3f79ec0883d981076d184a640517b5813195ce8b4dc62c2\n",
      "version: 1\n",
      "tx_ins:\n",
      "bcae8a7a3f8f1ce54b61ab980a9af2fe84425a885348de833857fb227e64e57f:0\n",
      "tx_outs:\n",
      "1435130:OP_DUP OP_HASH160 b1bab5acc6442c5d38338d56fe23840173dfc1bc OP_EQUALVERIFY OP_CHECKSIG\n",
      "1000000:OP_DUP OP_HASH160 ad346f8eb57dee9a37981716e498120ae80e44f7 OP_EQUALVERIFY OP_CHECKSIG\n",
      "locktime: 0\n",
      "fetch id  bcae8a7a3f8f1ce54b61ab980a9af2fe84425a885348de833857fb227e64e57f\n",
      "fetch id  bcae8a7a3f8f1ce54b61ab980a9af2fe84425a885348de833857fb227e64e57f\n",
      "fetch id  bcae8a7a3f8f1ce54b61ab980a9af2fe84425a885348de833857fb227e64e57f\n",
      "sig hex 01000000017fe5647e22fb573883de4853885a4284fef29a0a98ab614be51c8f3f7a8aaebc000000006b48304502210080f243160087bca8c2d9ca2426f3a9f3fd55bbab7dc0fded21ef5cf4efab0613022067106de818ff8f7c36b30da8498f85fcc7fad832766baca3c957bc8d14ffe002012103744bdc35af2b5cd7763148ba584ce31f30675d95f4e9dcc2af819ad7f4dcaae8ffffffff02fae51500000000001976a914b1bab5acc6442c5d38338d56fe23840173dfc1bc88ac40420f00000000001976a914ad346f8eb57dee9a37981716e498120ae80e44f788ac00000000\n"
     ]
    }
   ],
   "source": [
    "# Exercise 4\n",
    "\n",
    "from ecc import PrivateKey\n",
    "from helper import decode_base58, SIGHASH_ALL, hash256, little_endian_to_int\n",
    "from script import p2pkh_script, Script\n",
    "from tx import TxIn, TxOut, Tx\n",
    "\n",
    "# create 1 TxIn and 2 TxOuts\n",
    "# 1 of the TxOuts should be back to your address\n",
    "# the other TxOut should be to this address\n",
    "target_address = 'mwJn1YPMq7y5F8J3LkC5Hxg9PHyZ5K4cFv'\n",
    "\n",
    "# get the private key from the exercise in Chapter 4\n",
    "# change address should be the address generated from Chapter 4\n",
    "secret = little_endian_to_int(hash256(b'the sun rise from the west e13'))\n",
    "private_key = PrivateKey(secret)\n",
    "\n",
    "change_address = private_key.point.address(testnet=True)\n",
    "print('change address :', private_key.point.address(testnet=True))\n",
    "# get the prev_tx and prev_index from the transaction where you got\n",
    "# some testnet coins\n",
    "# Total unspent 0.0293513\n",
    "prev_tx = bytes.fromhex('bcae8a7a3f8f1ce54b61ab980a9af2fe84425a885348de833857fb227e64e57f')\n",
    "prev_index = 0\n",
    "# create a transaction input for the previous transaction with\n",
    "# the default ScriptSig and sequence\n",
    "tx_in = TxIn(prev_tx, prev_index)\n",
    "# target amount should be 60% of the output amount\n",
    "target_amount = int(0.01*100000000)\n",
    "# set the fee to some reasonable amount\n",
    "fee_amount = int(0.005*100000000)\n",
    "# change amount = amount from the prev tx - target amount - fee\n",
    "change_amount = int(0.0293513*100000000) - target_amount - fee_amount\n",
    "# create a transaction output for the target amount and address\n",
    "target_h160 = decode_base58(target_address)\n",
    "target_script = p2pkh_script(target_h160)\n",
    "target_output = TxOut(target_amount, target_script)\n",
    "# create a transaction output for the change amount and address\n",
    "change_h160 = decode_base58(change_address)\n",
    "change_script = p2pkh_script(change_h160)\n",
    "change_output = TxOut(change_amount, change_script)\n",
    "# create the transaction object\n",
    "tx_obj = Tx(1, [tx_in], [change_output, target_output], 0, True)\n",
    "print(tx_obj)\n",
    "# sign the one input in the transaction object using the private key\n",
    "tx_obj.sign_input(0, private_key)\n",
    "# print the transaction's serialization in hex\n",
    "print('sig hex', tx_obj.serialize().hex())\n",
    "# broadcast at http://testnet.blockchain.info/pushtx"
   ]
  },
  {
   "cell_type": "markdown",
   "metadata": {},
   "source": [
    "### Exercise 5\n",
    "\n",
    "Advanced: get some more testnet coins from a testnet faucet and create a 2 input, 1 output transaction. 1 input should be from the faucet, the other should be from the previous exercise, the output can be your own address.\n",
    "\n",
    "You can broadcast the transaction at https://testnet.blockchain.info/pushtx"
   ]
  },
  {
   "cell_type": "code",
   "execution_count": 57,
   "metadata": {
    "scrolled": true
   },
   "outputs": [
    {
     "name": "stdout",
     "output_type": "stream",
     "text": [
      "fetch id  68f3e9927ed7cf749a80ff5005d5d3acc3a3c749866f881c3a33354acf8750cc\n",
      "2035748\n",
      "fetch id  333286f37ded24d5e8b4a5cc0b409ded3152ec42943e265d7a593671761f0904\n",
      "1435130\n",
      "fetch id  68f3e9927ed7cf749a80ff5005d5d3acc3a3c749866f881c3a33354acf8750cc\n",
      "fetch id  333286f37ded24d5e8b4a5cc0b409ded3152ec42943e265d7a593671761f0904\n",
      "change 2470478\n",
      "target 1000000\n",
      "fetch id  68f3e9927ed7cf749a80ff5005d5d3acc3a3c749866f881c3a33354acf8750cc\n",
      "fetch id  68f3e9927ed7cf749a80ff5005d5d3acc3a3c749866f881c3a33354acf8750cc\n",
      "fetch id  68f3e9927ed7cf749a80ff5005d5d3acc3a3c749866f881c3a33354acf8750cc\n",
      "fetch id  333286f37ded24d5e8b4a5cc0b409ded3152ec42943e265d7a593671761f0904\n",
      "fetch id  333286f37ded24d5e8b4a5cc0b409ded3152ec42943e265d7a593671761f0904\n",
      "fetch id  333286f37ded24d5e8b4a5cc0b409ded3152ec42943e265d7a593671761f0904\n",
      "estimated Fee 424\n",
      "fetch id  68f3e9927ed7cf749a80ff5005d5d3acc3a3c749866f881c3a33354acf8750cc\n",
      "fetch id  333286f37ded24d5e8b4a5cc0b409ded3152ec42943e265d7a593671761f0904\n",
      "fetch id  68f3e9927ed7cf749a80ff5005d5d3acc3a3c749866f881c3a33354acf8750cc\n",
      "fetch id  68f3e9927ed7cf749a80ff5005d5d3acc3a3c749866f881c3a33354acf8750cc\n",
      "fetch id  68f3e9927ed7cf749a80ff5005d5d3acc3a3c749866f881c3a33354acf8750cc\n",
      "fetch id  333286f37ded24d5e8b4a5cc0b409ded3152ec42943e265d7a593671761f0904\n",
      "fetch id  333286f37ded24d5e8b4a5cc0b409ded3152ec42943e265d7a593671761f0904\n",
      "fetch id  333286f37ded24d5e8b4a5cc0b409ded3152ec42943e265d7a593671761f0904\n",
      "sig hex 0100000002cc5087cf4a35333a1c886f8649c7a3c3acd3d50550ff809a74cfd77e92e9f368000000006a473044022100eaa3d6b9fcec32fd63e42e1ff0d383b5036b29e677cb93edbc6d4907dcdc506e021f513590921ea092723ffadf0fb3eceb931346ae97918d71b9ab1e6ad18ee09e012103744bdc35af2b5cd7763148ba584ce31f30675d95f4e9dcc2af819ad7f4dcaae8ffffffff04091f767136597a5d263e9442ec5231ed9d400bcca5b4e8d524ed7df3863233000000006b483045022100cdf444463e32f13b7cb7a32e251c0875fc5f568b2833e362d159b937d60fabbf022065a363bd0793a650989b209bb400e4248268606491652e50ea9b4e122dcca233012103744bdc35af2b5cd7763148ba584ce31f30675d95f4e9dcc2af819ad7f4dcaae8ffffffff0236b22500000000001976a914b1bab5acc6442c5d38338d56fe23840173dfc1bc88ac40420f00000000001976a914ad346f8eb57dee9a37981716e498120ae80e44f788ac00000000\n"
     ]
    }
   ],
   "source": [
    "# Exercise 5\n",
    "\n",
    "import sys\n",
    "from ecc import PrivateKey\n",
    "from helper import decode_base58, SIGHASH_ALL, hash256, little_endian_to_int\n",
    "from script import p2pkh_script, Script\n",
    "from tx import TxIn, TxOut, Tx\n",
    "\n",
    "# Create 2 TxIns, 1 from the Exercise 4 and 1 from a testnet faucet\n",
    "# Creat 1 TxOut to the address above\n",
    "target_address = 'mwJn1YPMq7y5F8J3LkC5Hxg9PHyZ5K4cFv'\n",
    "\n",
    "# get the private key from the exercise in Chapter 4\n",
    "secret = little_endian_to_int(hash256(b'Test Secret'))\n",
    "private_key = PrivateKey(secret)\n",
    "change_address = private_key.point.address(testnet=True)\n",
    "# get the prev_tx and prev_index from the transaction where you got\n",
    "# some testnet coins\n",
    "prev_tx1 = bytes.fromhex('68f3e9927ed7cf749a80ff5005d5d3acc3a3c749866f881c3a33354acf8750cc')\n",
    "prev_index1 = 0\n",
    "# 0.02035748 BTC\n",
    "\n",
    "# create the first transaction input with the default ScriptSig and\n",
    "# sequence\n",
    "tx_in_1 = TxIn(prev_tx1, prev_index1)\n",
    "# get the prev_tx and prev_index from the transaction in Exercise 4\n",
    "prev_tx2 = bytes.fromhex('333286f37ded24d5e8b4a5cc0b409ded3152ec42943e265d7a593671761f0904')\n",
    "prev_index2 = 0\n",
    "# 0.0143513 BTC\n",
    "# create the second transaction input with the default ScriptSig and\n",
    "# sequence\n",
    "tx_in_2 = TxIn(prev_tx2, prev_index2)\n",
    "# set the fee to some reasonable amount\n",
    "estimated_fee = 400\n",
    "# target amount should be the sum of the inputs - fee\n",
    "print(tx_in_1.value(True))\n",
    "print(tx_in_2.value(True))\n",
    "\n",
    "target_amount = int(0.01*100000000)\n",
    "change_amount = (tx_in_1.value(True) + tx_in_2.value(True)) - target_amount - estimated_fee\n",
    "print('change', change_amount)\n",
    "print('target', target_amount)\n",
    "# create a transaction output for the amount and address\n",
    "change_h160 = decode_base58(change_address)\n",
    "change_script = p2pkh_script(change_h160)\n",
    "change_output = TxOut(change_amount, change_script)\n",
    "\n",
    "target_h160 = decode_base58(target_address)\n",
    "target_script = p2pkh_script(target_h160)\n",
    "target_output = TxOut(target_amount, target_script)\n",
    "\n",
    "# create the transaction object\n",
    "tx_obj = Tx(1, [tx_in_1, tx_in_2], [change_output, target_output], 0, True)\n",
    "\n",
    "# sign the first input using the private key\n",
    "tx_obj.sign_input(0, private_key)\n",
    "# sign the second input using the private key \n",
    "tx_obj.sign_input(1, private_key)\n",
    "\n",
    "# Recalculate Transaction fees\n",
    "estimated_fee = len(tx_obj.serialize()) + 50\n",
    "print('estimated Fee', estimated_fee)\n",
    "change_amount = (tx_in_1.value(True) + tx_in_2.value(True)) - target_amount - estimated_fee\n",
    "change_output = TxOut(change_amount, change_script)\n",
    "target_output = TxOut(target_amount, target_script)\n",
    "tx_obj = Tx(1, [tx_in_1, tx_in_2], [change_output, target_output], 0, True)\n",
    "\n",
    "\n",
    "# sign the first input using the private key\n",
    "tx_obj.sign_input(0, private_key)\n",
    "# sign the second input using the private key \n",
    "tx_obj.sign_input(1, private_key)\n",
    "\n",
    "# print the transaction's serialization in hex\n",
    "print('sig hex', tx_obj.serialize().hex())\n",
    "# broadcast at http://testnet.blockchain.info/pushtx"
   ]
  },
  {
   "cell_type": "code",
   "execution_count": null,
   "metadata": {},
   "outputs": [],
   "source": []
  }
 ],
 "metadata": {
  "kernelspec": {
   "display_name": "Python 3",
   "language": "python",
   "name": "python3"
  },
  "language_info": {
   "codemirror_mode": {
    "name": "ipython",
    "version": 3
   },
   "file_extension": ".py",
   "mimetype": "text/x-python",
   "name": "python",
   "nbconvert_exporter": "python",
   "pygments_lexer": "ipython3",
   "version": "3.6.2"
  }
 },
 "nbformat": 4,
 "nbformat_minor": 2
}
